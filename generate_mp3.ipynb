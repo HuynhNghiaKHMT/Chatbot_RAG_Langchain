{
 "cells": [
  {
   "cell_type": "code",
   "execution_count": null,
   "id": "4185d03b",
   "metadata": {},
   "outputs": [
    {
     "name": "stdout",
     "output_type": "stream",
     "text": [
      "Đã đọc nội dung từ: ./raw_data\\HCM_intro.txt\n",
      "Đã chuyển đổi thành công và lưu vào: ./data\\HCM_intro.mp3\n"
     ]
    }
   ],
   "source": [
    "from gtts import gTTS\n",
    "import os\n",
    "\n",
    "# --- Cấu hình đường dẫn ---\n",
    "raw_data_dir = \"./raw_data\"\n",
    "output_audio_dir = \"./content/data\" \n",
    "\n",
    "# Tạo thư mục nếu chưa tồn tại\n",
    "os.makedirs(raw_data_dir, exist_ok=True)\n",
    "os.makedirs(output_audio_dir, exist_ok=True)\n",
    "\n",
    "input_txt_file = os.path.join(raw_data_dir, \"HCM_intro.txt\")\n",
    "output_mp3_file = os.path.join(output_audio_dir, \"HCM_intro.mp3\")\n",
    "\n",
    "# --- Đọc nội dung từ file txt ---\n",
    "try:\n",
    "    with open(input_txt_file, \"r\", encoding=\"utf-8\") as file:\n",
    "        text_content = file.read()\n",
    "    print(f\"Đã đọc nội dung từ: {input_txt_file}\")\n",
    "except FileNotFoundError:\n",
    "    print(f\"Lỗi: Không tìm thấy file {input_txt_file}\")\n",
    "    exit()\n",
    "except Exception as e:\n",
    "    print(f\"Lỗi khi đọc file: {e}\")\n",
    "    exit()\n",
    "\n",
    "# --- Chuyển văn bản thành giọng nói và lưu file mp3 ---\n",
    "try:\n",
    "    # 'lang' là mã ngôn ngữ (ví dụ: 'vi' cho tiếng Việt, 'en' cho tiếng Anh)\n",
    "    # 'slow=False' để giọng nói không bị chậm\n",
    "    tts = gTTS(text=text_content, lang='vi', slow=False)\n",
    "    \n",
    "    # Lưu file âm thanh\n",
    "    tts.save(output_mp3_file)\n",
    "    print(f\"Đã chuyển đổi thành công và lưu vào: {output_mp3_file}\")\n",
    "except Exception as e:\n",
    "    print(f\"Lỗi khi chuyển văn bản thành giọng nói: {e}\")"
   ]
  },
  {
   "cell_type": "code",
   "execution_count": 2,
   "id": "53e1f819",
   "metadata": {},
   "outputs": [
    {
     "name": "stdout",
     "output_type": "stream",
     "text": [
      "Đã đọc nội dung từ: ./raw_data\\Pollution_intro.txt\n",
      "Đã chuyển đổi thành công và lưu vào: ./content/data\\Pollution_intro.mp3\n"
     ]
    }
   ],
   "source": [
    "from gtts import gTTS\n",
    "import os\n",
    "\n",
    "# --- Cấu hình đường dẫn ---\n",
    "raw_data_dir = \"./raw_data\"\n",
    "output_audio_dir = \"./content/data\" \n",
    "\n",
    "# Tạo thư mục nếu chưa tồn tại\n",
    "os.makedirs(raw_data_dir, exist_ok=True)\n",
    "os.makedirs(output_audio_dir, exist_ok=True)\n",
    "\n",
    "input_txt_file = os.path.join(raw_data_dir, \"Pollution_intro.txt\")\n",
    "output_mp3_file = os.path.join(output_audio_dir, \"Pollution_intro.mp3\")\n",
    "\n",
    "# --- Đọc nội dung từ file txt ---\n",
    "try:\n",
    "    with open(input_txt_file, \"r\", encoding=\"utf-8\") as file:\n",
    "        text_content = file.read()\n",
    "    print(f\"Đã đọc nội dung từ: {input_txt_file}\")\n",
    "except FileNotFoundError:\n",
    "    print(f\"Lỗi: Không tìm thấy file {input_txt_file}\")\n",
    "    exit()\n",
    "except Exception as e:\n",
    "    print(f\"Lỗi khi đọc file: {e}\")\n",
    "    exit()\n",
    "\n",
    "# --- Chuyển văn bản thành giọng nói và lưu file mp3 ---\n",
    "try:\n",
    "    # 'lang' là mã ngôn ngữ (ví dụ: 'vi' cho tiếng Việt, 'en' cho tiếng Anh)\n",
    "    # 'slow=False' để giọng nói không bị chậm\n",
    "    tts = gTTS(text=text_content, lang='en', slow=False)\n",
    "    \n",
    "    # Lưu file âm thanh\n",
    "    tts.save(output_mp3_file)\n",
    "    print(f\"Đã chuyển đổi thành công và lưu vào: {output_mp3_file}\")\n",
    "except Exception as e:\n",
    "    print(f\"Lỗi khi chuyển văn bản thành giọng nói: {e}\")"
   ]
  }
 ],
 "metadata": {
  "kernelspec": {
   "display_name": "chatbot_env",
   "language": "python",
   "name": "python3"
  },
  "language_info": {
   "codemirror_mode": {
    "name": "ipython",
    "version": 3
   },
   "file_extension": ".py",
   "mimetype": "text/x-python",
   "name": "python",
   "nbconvert_exporter": "python",
   "pygments_lexer": "ipython3",
   "version": "3.11.9"
  }
 },
 "nbformat": 4,
 "nbformat_minor": 5
}
